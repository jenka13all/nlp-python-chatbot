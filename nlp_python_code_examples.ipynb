{
  "nbformat": 4,
  "nbformat_minor": 0,
  "metadata": {
    "colab": {
      "name": "nlp-python-code-examples.ipynb",
      "provenance": [],
      "collapsed_sections": [],
      "authorship_tag": "ABX9TyOcIAM8b9vT/w6QwXp0Melc",
      "include_colab_link": true
    },
    "kernelspec": {
      "name": "python3",
      "display_name": "Python 3"
    }
  },
  "cells": [
    {
      "cell_type": "markdown",
      "metadata": {
        "id": "view-in-github",
        "colab_type": "text"
      },
      "source": [
        "<a href=\"https://colab.research.google.com/github/jenka13all/nlp-python-chatbot/blob/master/nlp_python_code_examples.ipynb\" target=\"_parent\"><img src=\"https://colab.research.google.com/assets/colab-badge.svg\" alt=\"Open In Colab\"/></a>"
      ]
    },
    {
      "cell_type": "code",
      "metadata": {
        "id": "JXJLA6eRKZWi",
        "colab_type": "code",
        "colab": {}
      },
      "source": [
        "import nltk\n",
        "import os\n",
        "import pandas as pd"
      ],
      "execution_count": 0,
      "outputs": []
    },
    {
      "cell_type": "code",
      "metadata": {
        "id": "khlJw7QFNrbt",
        "colab_type": "code",
        "colab": {}
      },
      "source": [
        "# Download some text from NLTK\n",
        "# http://www.nltk.org/nltk_data/\n",
        "# I downloaded Project Gutenberg Selections to use Lewis Carrol's \"Alice's adventures in Wonderland\""
      ],
      "execution_count": 0,
      "outputs": []
    },
    {
      "cell_type": "code",
      "metadata": {
        "id": "-5G6pNKOKhAI",
        "colab_type": "code",
        "outputId": "883e6cb1-bdce-48c5-b3fb-2a435d0363cd",
        "colab": {
          "resources": {
            "http://localhost:8080/nbextensions/google.colab/files.js": {
              "data": "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",
              "ok": true,
              "headers": [
                [
                  "content-type",
                  "application/javascript"
                ]
              ],
              "status": 200,
              "status_text": ""
            }
          },
          "base_uri": "https://localhost:8080/",
          "height": 105
        }
      },
      "source": [
        "# Fetch text\n",
        "from google.colab import files\n",
        "uploaded = files.upload()\n",
        "print(\"len(uploaded.keys():\", len(uploaded.keys()))\n",
        "\n",
        "# Load text into an object called \"text\"\n",
        "for fn in uploaded.keys():\n",
        "  print('User uploaded file \"{name}\" with length {length} bytes'.format(name=fn, length=len(uploaded[fn])))\n",
        "  with open(fn, 'r', encoding='utf8', errors='ignore') as f:\n",
        "    text = f.read()\n"
      ],
      "execution_count": 3,
      "outputs": [
        {
          "output_type": "display_data",
          "data": {
            "text/html": [
              "\n",
              "     <input type=\"file\" id=\"files-9c65155b-085c-49f0-af71-e555fa2cc661\" name=\"files[]\" multiple disabled />\n",
              "     <output id=\"result-9c65155b-085c-49f0-af71-e555fa2cc661\">\n",
              "      Upload widget is only available when the cell has been executed in the\n",
              "      current browser session. Please rerun this cell to enable.\n",
              "      </output>\n",
              "      <script src=\"/nbextensions/google.colab/files.js\"></script> "
            ],
            "text/plain": [
              "<IPython.core.display.HTML object>"
            ]
          },
          "metadata": {
            "tags": []
          }
        },
        {
          "output_type": "stream",
          "text": [
            "Saving carroll-alice.txt to carroll-alice.txt\n",
            "len(uploaded.keys(): 1\n",
            "User uploaded file \"carroll-alice.txt\" with length 144395 bytes\n"
          ],
          "name": "stdout"
        }
      ]
    },
    {
      "cell_type": "code",
      "metadata": {
        "id": "04gexq87Np26",
        "colab_type": "code",
        "outputId": "85c44c3c-1b76-4dd2-b5e4-5df1d0f38e45",
        "colab": {
          "base_uri": "https://localhost:8080/",
          "height": 374
        }
      },
      "source": [
        "# Preprocess text\n",
        "nltk.download('punkt')\n",
        "\n",
        "# Split text into sentences\n",
        "sentences = nltk.sent_tokenize(text)\n",
        "for i in range(1,5):\n",
        "    print(sentences[i] + \"\\n\")"
      ],
      "execution_count": 4,
      "outputs": [
        {
          "output_type": "stream",
          "text": [
            "[nltk_data] Downloading package punkt to /root/nltk_data...\n",
            "[nltk_data]   Unzipping tokenizers/punkt.zip.\n",
            "Down the Rabbit-Hole\n",
            "\n",
            "Alice was beginning to get very tired of sitting by her sister on the\n",
            "bank, and of having nothing to do: once or twice she had peeped into the\n",
            "book her sister was reading, but it had no pictures or conversations in\n",
            "it, 'and what is the use of a book,' thought Alice 'without pictures or\n",
            "conversation?'\n",
            "\n",
            "So she was considering in her own mind (as well as she could, for the\n",
            "hot day made her feel very sleepy and stupid), whether the pleasure\n",
            "of making a daisy-chain would be worth the trouble of getting up and\n",
            "picking the daisies, when suddenly a White Rabbit with pink eyes ran\n",
            "close by her.\n",
            "\n",
            "There was nothing so VERY remarkable in that; nor did Alice think it so\n",
            "VERY much out of the way to hear the Rabbit say to itself, 'Oh dear!\n",
            "\n",
            "Oh dear!\n",
            "\n"
          ],
          "name": "stdout"
        }
      ]
    },
    {
      "cell_type": "code",
      "metadata": {
        "id": "xX03UQcbRJT2",
        "colab_type": "code",
        "outputId": "c2f85268-91af-4172-e08f-a984b74bcb5f",
        "colab": {
          "base_uri": "https://localhost:8080/",
          "height": 340
        }
      },
      "source": [
        "# Split into words\n",
        "tokens = nltk.word_tokenize(text)\n",
        "for i in range(1, 20):\n",
        "    print(tokens[i])"
      ],
      "execution_count": 5,
      "outputs": [
        {
          "output_type": "stream",
          "text": [
            "Alice\n",
            "'s\n",
            "Adventures\n",
            "in\n",
            "Wonderland\n",
            "by\n",
            "Lewis\n",
            "Carroll\n",
            "1865\n",
            "]\n",
            "CHAPTER\n",
            "I\n",
            ".\n",
            "Down\n",
            "the\n",
            "Rabbit-Hole\n",
            "Alice\n",
            "was\n",
            "beginning\n"
          ],
          "name": "stdout"
        }
      ]
    },
    {
      "cell_type": "code",
      "metadata": {
        "id": "bYQ6G2A4TcwW",
        "colab_type": "code",
        "outputId": "4b1ee0a4-4b8b-4757-adbf-3ba38fe92277",
        "colab": {
          "base_uri": "https://localhost:8080/",
          "height": 340
        }
      },
      "source": [
        "# Make everything lower-case\n",
        "tokens = [w.lower() for w in tokens]\n",
        "\n",
        "for i in range(1, 20):\n",
        "   print(tokens[i])"
      ],
      "execution_count": 6,
      "outputs": [
        {
          "output_type": "stream",
          "text": [
            "alice\n",
            "'s\n",
            "adventures\n",
            "in\n",
            "wonderland\n",
            "by\n",
            "lewis\n",
            "carroll\n",
            "1865\n",
            "]\n",
            "chapter\n",
            "i\n",
            ".\n",
            "down\n",
            "the\n",
            "rabbit-hole\n",
            "alice\n",
            "was\n",
            "beginning\n"
          ],
          "name": "stdout"
        }
      ]
    },
    {
      "cell_type": "code",
      "metadata": {
        "id": "wgT3wTpdUkws",
        "colab_type": "code",
        "outputId": "2f7d992b-2be4-4bef-c911-5190f5e6d760",
        "colab": {
          "base_uri": "https://localhost:8080/",
          "height": 340
        }
      },
      "source": [
        "# Remove all punctuation (we only want real words)\n",
        "import string \n",
        "\n",
        "translation = str.maketrans('', '', string.punctuation)\n",
        "real_words = [w.translate(translation) for w in tokens]\n",
        "\n",
        "for i in range(1, 20):\n",
        "    print(real_words[i])"
      ],
      "execution_count": 7,
      "outputs": [
        {
          "output_type": "stream",
          "text": [
            "alice\n",
            "s\n",
            "adventures\n",
            "in\n",
            "wonderland\n",
            "by\n",
            "lewis\n",
            "carroll\n",
            "1865\n",
            "\n",
            "chapter\n",
            "i\n",
            "\n",
            "down\n",
            "the\n",
            "rabbithole\n",
            "alice\n",
            "was\n",
            "beginning\n"
          ],
          "name": "stdout"
        }
      ]
    },
    {
      "cell_type": "code",
      "metadata": {
        "id": "6ne7qba1Uzl9",
        "colab_type": "code",
        "outputId": "dd9c9937-9f68-4d33-fc3b-bed6d69dd0eb",
        "colab": {
          "base_uri": "https://localhost:8080/",
          "height": 374
        }
      },
      "source": [
        "# Remove stop-words - and empty string!\n",
        "from nltk.corpus import stopwords\n",
        "nltk.download('stopwords')\n",
        "\n",
        "stop_words = set(stopwords.words('english'))\n",
        "words = [w for w in real_words if not w in stop_words and w != '']\n",
        "for i in range(1, 20):\n",
        "    print(words[i])"
      ],
      "execution_count": 8,
      "outputs": [
        {
          "output_type": "stream",
          "text": [
            "[nltk_data] Downloading package stopwords to /root/nltk_data...\n",
            "[nltk_data]   Unzipping corpora/stopwords.zip.\n",
            "adventures\n",
            "wonderland\n",
            "lewis\n",
            "carroll\n",
            "1865\n",
            "chapter\n",
            "rabbithole\n",
            "alice\n",
            "beginning\n",
            "get\n",
            "tired\n",
            "sitting\n",
            "sister\n",
            "bank\n",
            "nothing\n",
            "twice\n",
            "peeped\n",
            "book\n",
            "sister\n"
          ],
          "name": "stdout"
        }
      ]
    },
    {
      "cell_type": "code",
      "metadata": {
        "id": "CvsBVZCeVbQL",
        "colab_type": "code",
        "outputId": "9ff4db8f-b535-4f35-aeb4-a06baa0fdf80",
        "colab": {
          "base_uri": "https://localhost:8080/",
          "height": 340
        }
      },
      "source": [
        "# Stemming Example\n",
        "from nltk.stem.porter import PorterStemmer\n",
        "\n",
        "porter = PorterStemmer()\n",
        "stemmed = [porter.stem(word) for word in words]\n",
        "for i in range(1, 20):\n",
        "    print(stemmed[i])"
      ],
      "execution_count": 9,
      "outputs": [
        {
          "output_type": "stream",
          "text": [
            "adventur\n",
            "wonderland\n",
            "lewi\n",
            "carrol\n",
            "1865\n",
            "chapter\n",
            "rabbithol\n",
            "alic\n",
            "begin\n",
            "get\n",
            "tire\n",
            "sit\n",
            "sister\n",
            "bank\n",
            "noth\n",
            "twice\n",
            "peep\n",
            "book\n",
            "sister\n"
          ],
          "name": "stdout"
        }
      ]
    },
    {
      "cell_type": "code",
      "metadata": {
        "id": "rigrW56TWRhb",
        "colab_type": "code",
        "outputId": "4eb9e754-70da-40dd-9e13-a52b5e89a7b1",
        "colab": {
          "base_uri": "https://localhost:8080/",
          "height": 374
        }
      },
      "source": [
        "# Lemmatize Example\n",
        "from nltk.stem import WordNetLemmatizer \n",
        "nltk.download('wordnet')\n",
        "  \n",
        "lemmatizer = WordNetLemmatizer() \n",
        "lemma = [lemmatizer.lemmatize(word) for word in words]\n",
        "\n",
        "for i in range(1,20):\n",
        "    print(lemma[i])"
      ],
      "execution_count": 10,
      "outputs": [
        {
          "output_type": "stream",
          "text": [
            "[nltk_data] Downloading package wordnet to /root/nltk_data...\n",
            "[nltk_data]   Unzipping corpora/wordnet.zip.\n",
            "adventure\n",
            "wonderland\n",
            "lewis\n",
            "carroll\n",
            "1865\n",
            "chapter\n",
            "rabbithole\n",
            "alice\n",
            "beginning\n",
            "get\n",
            "tired\n",
            "sitting\n",
            "sister\n",
            "bank\n",
            "nothing\n",
            "twice\n",
            "peeped\n",
            "book\n",
            "sister\n"
          ],
          "name": "stdout"
        }
      ]
    },
    {
      "cell_type": "code",
      "metadata": {
        "id": "dCOnV8Q7W08d",
        "colab_type": "code",
        "outputId": "3bb3b68d-a898-4475-b7b2-5a798ba9da41",
        "colab": {
          "base_uri": "https://localhost:8080/",
          "height": 221
        }
      },
      "source": [
        "# Part of Speech (POS) tagging\n",
        "nltk.download('averaged_perceptron_tagger')\n",
        "pos = nltk.pos_tag(words)\n",
        "\n",
        "for i in range(1,10):\n",
        "    print(pos[i])"
      ],
      "execution_count": 11,
      "outputs": [
        {
          "output_type": "stream",
          "text": [
            "[nltk_data] Downloading package averaged_perceptron_tagger to\n",
            "[nltk_data]     /root/nltk_data...\n",
            "[nltk_data]   Unzipping taggers/averaged_perceptron_tagger.zip.\n",
            "('adventures', 'NNS')\n",
            "('wonderland', 'VBP')\n",
            "('lewis', 'RB')\n",
            "('carroll', 'JJ')\n",
            "('1865', 'CD')\n",
            "('chapter', 'NN')\n",
            "('rabbithole', 'JJ')\n",
            "('alice', 'NN')\n",
            "('beginning', 'VBG')\n"
          ],
          "name": "stdout"
        }
      ]
    },
    {
      "cell_type": "code",
      "metadata": {
        "id": "PA5tkB4SVL9J",
        "colab_type": "code",
        "outputId": "2414e62c-41c6-4d37-f2c9-7e3045830b01",
        "colab": {
          "base_uri": "https://localhost:8080/",
          "height": 493
        }
      },
      "source": [
        "# Prepare sentences for BOW\n",
        "print('original:')\n",
        "for i in range(1,2):\n",
        "    print(sentences[i])\n",
        "print(\"\\n\")\n",
        "\n",
        "# lowercase\n",
        "lower = [w.lower() for w in sentences]\n",
        "print('lowercase:')\n",
        "for i in range(1,2):\n",
        "    print(lower[i])\n",
        "print(\"\\n\")\n",
        "\n",
        "# remove punctuation\n",
        "no_punct = [w.translate(translation) for w in lower]\n",
        "print('remove punctuation:')\n",
        "\n",
        "for i in range(1,2):\n",
        "    print(no_punct[i])\n"
      ],
      "execution_count": 12,
      "outputs": [
        {
          "output_type": "stream",
          "text": [
            "original:\n",
            "Down the Rabbit-Hole\n",
            "\n",
            "Alice was beginning to get very tired of sitting by her sister on the\n",
            "bank, and of having nothing to do: once or twice she had peeped into the\n",
            "book her sister was reading, but it had no pictures or conversations in\n",
            "it, 'and what is the use of a book,' thought Alice 'without pictures or\n",
            "conversation?'\n",
            "\n",
            "\n",
            "lowercase:\n",
            "down the rabbit-hole\n",
            "\n",
            "alice was beginning to get very tired of sitting by her sister on the\n",
            "bank, and of having nothing to do: once or twice she had peeped into the\n",
            "book her sister was reading, but it had no pictures or conversations in\n",
            "it, 'and what is the use of a book,' thought alice 'without pictures or\n",
            "conversation?'\n",
            "\n",
            "\n",
            "remove punctuation:\n",
            "down the rabbithole\n",
            "\n",
            "alice was beginning to get very tired of sitting by her sister on the\n",
            "bank and of having nothing to do once or twice she had peeped into the\n",
            "book her sister was reading but it had no pictures or conversations in\n",
            "it and what is the use of a book thought alice without pictures or\n",
            "conversation\n"
          ],
          "name": "stdout"
        }
      ]
    },
    {
      "cell_type": "code",
      "metadata": {
        "id": "mzKuAfjNXeR8",
        "colab_type": "code",
        "outputId": "88bd1a42-7aa0-45a3-c3ae-884348f3e13c",
        "colab": {
          "base_uri": "https://localhost:8080/",
          "height": 255
        }
      },
      "source": [
        "# Bag of Words (BOW)\n",
        "from sklearn.feature_extraction.text import CountVectorizer\n",
        "\n",
        "CountVec = CountVectorizer() #see documentation for options!\n",
        "bow = CountVec.fit_transform(no_punct)\n",
        "\n",
        "X = pd.DataFrame(bow.toarray(), columns = CountVec.get_feature_names(), dtype='float32')\n",
        "\n",
        "# overall structure\n",
        "print(X.head())\n",
        "\n",
        "# show us the rows (sentences) where 'rabbit' occurs\n",
        "print(X[X['rabbit'] > 0]['rabbit'].head())"
      ],
      "execution_count": 13,
      "outputs": [
        {
          "output_type": "stream",
          "text": [
            "   1865  abide  able  about  above  ...  yourself  youth  youve  zealand  zigzag\n",
            "0   1.0    0.0   0.0    0.0    0.0  ...       0.0    0.0    0.0      0.0     0.0\n",
            "1   0.0    0.0   0.0    0.0    0.0  ...       0.0    0.0    0.0      0.0     0.0\n",
            "2   0.0    0.0   0.0    0.0    0.0  ...       0.0    0.0    0.0      0.0     0.0\n",
            "3   0.0    0.0   0.0    0.0    0.0  ...       0.0    0.0    0.0      0.0     0.0\n",
            "4   0.0    0.0   0.0    0.0    0.0  ...       0.0    0.0    0.0      0.0     0.0\n",
            "\n",
            "[5 rows x 2744 columns]\n",
            "2     1.0\n",
            "3     1.0\n",
            "6     2.0\n",
            "50    1.0\n",
            "52    1.0\n",
            "Name: rabbit, dtype: float32\n"
          ],
          "name": "stdout"
        }
      ]
    },
    {
      "cell_type": "code",
      "metadata": {
        "id": "n0RSht9PaaJc",
        "colab_type": "code",
        "outputId": "c02645a8-d444-46f3-d3ec-f3c943f28d74",
        "colab": {
          "base_uri": "https://localhost:8080/",
          "height": 255
        }
      },
      "source": [
        "# TFIDF - Term Frequency Inverse Document Frequency\n",
        "from sklearn.feature_extraction.text import TfidfVectorizer\n",
        "\n",
        "TfidfVec = TfidfVectorizer() #see documentation for options!\n",
        "tfidf = TfidfVec.fit_transform(no_punct)\n",
        "\n",
        "X = pd.DataFrame(tfidf.toarray(), columns = TfidfVec.get_feature_names(), dtype='float32')\n",
        "\n",
        "# overall structure\n",
        "print(X.head())\n",
        "\n",
        "# show us the rows (sentences) where 'rabbit' occurs\n",
        "print(X[X['rabbit'] > 0]['rabbit'].head())"
      ],
      "execution_count": 14,
      "outputs": [
        {
          "output_type": "stream",
          "text": [
            "       1865  abide  able  about  above  ...  yourself  youth  youve  zealand  zigzag\n",
            "0  0.404084    0.0   0.0    0.0    0.0  ...       0.0    0.0    0.0      0.0     0.0\n",
            "1  0.000000    0.0   0.0    0.0    0.0  ...       0.0    0.0    0.0      0.0     0.0\n",
            "2  0.000000    0.0   0.0    0.0    0.0  ...       0.0    0.0    0.0      0.0     0.0\n",
            "3  0.000000    0.0   0.0    0.0    0.0  ...       0.0    0.0    0.0      0.0     0.0\n",
            "4  0.000000    0.0   0.0    0.0    0.0  ...       0.0    0.0    0.0      0.0     0.0\n",
            "\n",
            "[5 rows x 2744 columns]\n",
            "2     0.125458\n",
            "3     0.199265\n",
            "6     0.161356\n",
            "50    0.148478\n",
            "52    0.151654\n",
            "Name: rabbit, dtype: float32\n"
          ],
          "name": "stdout"
        }
      ]
    },
    {
      "cell_type": "code",
      "metadata": {
        "id": "LTt-hpIEcCAo",
        "colab_type": "code",
        "outputId": "574d8c92-f38d-4243-cb25-b50bf34ef5bf",
        "colab": {
          "base_uri": "https://localhost:8080/",
          "height": 119
        }
      },
      "source": [
        "# Cosine similarity: Example\n",
        "# transform user query so we can compare it to our matrix of TFIDF weighted word features\n",
        "query = TfidfVec.transform(['Well hello there little rabbit! How curious!'])\n",
        "print(query)"
      ],
      "execution_count": 15,
      "outputs": [
        {
          "output_type": "stream",
          "text": [
            "  (0, 2614)\t0.39403466673912846\n",
            "  (0, 2356)\t0.3762611521737101\n",
            "  (0, 1831)\t0.43285798098243383\n",
            "  (0, 1341)\t0.33570156409033447\n",
            "  (0, 1113)\t0.3955553558017727\n",
            "  (0, 507)\t0.49662723992582514\n"
          ],
          "name": "stdout"
        }
      ]
    },
    {
      "cell_type": "code",
      "metadata": {
        "id": "hbB8wB9ri48u",
        "colab_type": "code",
        "outputId": "9e1e0df2-c72d-4f9f-81e4-c91d0b4f0198",
        "colab": {
          "base_uri": "https://localhost:8080/",
          "height": 51
        }
      },
      "source": [
        "#what's the maximum closeness we can achieve to our saved dialogues?\n",
        "cosine_sim = query.dot(X.T)\n",
        "print(cosine_sim)\n",
        "print(cosine_sim.argmax())"
      ],
      "execution_count": 16,
      "outputs": [
        {
          "output_type": "stream",
          "text": [
            "[[0.         0.         0.09930625 ... 0.03181921 0.         0.14246259]]\n",
            "12\n"
          ],
          "name": "stdout"
        }
      ]
    },
    {
      "cell_type": "code",
      "metadata": {
        "id": "3oQ4xyRyjF5U",
        "colab_type": "code",
        "outputId": "ea38d04c-8acf-4d53-df69-9d6c9c4f7ea6",
        "colab": {
          "base_uri": "https://localhost:8080/",
          "height": 34
        }
      },
      "source": [
        "# plug index of closest vector into our array of SENTENCES\n",
        "bot_response = sentences[cosine_sim.argmax()]\n",
        "print(bot_response)"
      ],
      "execution_count": 17,
      "outputs": [
        {
          "output_type": "stream",
          "text": [
            "'Well!'\n"
          ],
          "name": "stdout"
        }
      ]
    },
    {
      "cell_type": "code",
      "metadata": {
        "id": "7CxmZkuAjVlx",
        "colab_type": "code",
        "colab": {}
      },
      "source": [
        ""
      ],
      "execution_count": 0,
      "outputs": []
    }
  ]
}